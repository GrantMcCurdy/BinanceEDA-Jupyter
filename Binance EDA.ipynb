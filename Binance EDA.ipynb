{
 "cells": [
  {
   "cell_type": "markdown",
   "metadata": {},
   "source": [
    "1. Setup"
   ]
  },
  {
   "cell_type": "code",
   "execution_count": 1,
   "metadata": {},
   "outputs": [],
   "source": [
    "apikey = '################################################################'\n",
    "secret = '################################################################'"
   ]
  },
  {
   "cell_type": "code",
   "execution_count": null,
   "metadata": {},
   "outputs": [],
   "source": [
    "%pip install python-binance pandas mplfinance"
   ]
  },
  {
   "cell_type": "code",
   "execution_count": 5,
   "metadata": {},
   "outputs": [],
   "source": [
    "from binance import Client, ThreadedWebsocketManager, ThreadedDepthCacheManager\n",
    "import pandas as pd"
   ]
  },
  {
   "cell_type": "markdown",
   "metadata": {},
   "source": [
    "2. Authenticate"
   ]
  },
  {
   "cell_type": "code",
   "execution_count": 6,
   "metadata": {},
   "outputs": [],
   "source": [
    "client = Client(apikey, secret)"
   ]
  },
  {
   "cell_type": "markdown",
   "metadata": {},
   "source": [
    "3. Get Tickers"
   ]
  },
  {
   "cell_type": "code",
   "execution_count": null,
   "metadata": {},
   "outputs": [],
   "source": [
    "tickers = client.get_all_tickers()"
   ]
  },
  {
   "cell_type": "code",
   "execution_count": 17,
   "metadata": {},
   "outputs": [],
   "source": [
    "ticker_df = pd.DataFrame(tickers)"
   ]
  },
  {
   "cell_type": "code",
   "execution_count": 18,
   "metadata": {},
   "outputs": [
    {
     "data": {
      "text/html": [
       "<div>\n",
       "<style scoped>\n",
       "    .dataframe tbody tr th:only-of-type {\n",
       "        vertical-align: middle;\n",
       "    }\n",
       "\n",
       "    .dataframe tbody tr th {\n",
       "        vertical-align: top;\n",
       "    }\n",
       "\n",
       "    .dataframe thead th {\n",
       "        text-align: right;\n",
       "    }\n",
       "</style>\n",
       "<table border=\"1\" class=\"dataframe\">\n",
       "  <thead>\n",
       "    <tr style=\"text-align: right;\">\n",
       "      <th></th>\n",
       "      <th>symbol</th>\n",
       "      <th>price</th>\n",
       "    </tr>\n",
       "  </thead>\n",
       "  <tbody>\n",
       "    <tr>\n",
       "      <th>0</th>\n",
       "      <td>ETHBTC</td>\n",
       "      <td>0.07602100</td>\n",
       "    </tr>\n",
       "    <tr>\n",
       "      <th>1</th>\n",
       "      <td>LTCBTC</td>\n",
       "      <td>0.00319000</td>\n",
       "    </tr>\n",
       "    <tr>\n",
       "      <th>2</th>\n",
       "      <td>BNBBTC</td>\n",
       "      <td>0.01077200</td>\n",
       "    </tr>\n",
       "    <tr>\n",
       "      <th>3</th>\n",
       "      <td>NEOBTC</td>\n",
       "      <td>0.00057500</td>\n",
       "    </tr>\n",
       "    <tr>\n",
       "      <th>4</th>\n",
       "      <td>QTUMETH</td>\n",
       "      <td>0.00249200</td>\n",
       "    </tr>\n",
       "  </tbody>\n",
       "</table>\n",
       "</div>"
      ],
      "text/plain": [
       "    symbol       price\n",
       "0   ETHBTC  0.07602100\n",
       "1   LTCBTC  0.00319000\n",
       "2   BNBBTC  0.01077200\n",
       "3   NEOBTC  0.00057500\n",
       "4  QTUMETH  0.00249200"
      ]
     },
     "execution_count": 18,
     "metadata": {},
     "output_type": "execute_result"
    }
   ],
   "source": [
    "ticker_df.head()"
   ]
  },
  {
   "cell_type": "code",
   "execution_count": 19,
   "metadata": {},
   "outputs": [
    {
     "data": {
      "text/html": [
       "<div>\n",
       "<style scoped>\n",
       "    .dataframe tbody tr th:only-of-type {\n",
       "        vertical-align: middle;\n",
       "    }\n",
       "\n",
       "    .dataframe tbody tr th {\n",
       "        vertical-align: top;\n",
       "    }\n",
       "\n",
       "    .dataframe thead th {\n",
       "        text-align: right;\n",
       "    }\n",
       "</style>\n",
       "<table border=\"1\" class=\"dataframe\">\n",
       "  <thead>\n",
       "    <tr style=\"text-align: right;\">\n",
       "      <th></th>\n",
       "      <th>symbol</th>\n",
       "      <th>price</th>\n",
       "    </tr>\n",
       "  </thead>\n",
       "  <tbody>\n",
       "    <tr>\n",
       "      <th>1880</th>\n",
       "      <td>ETHUST</td>\n",
       "      <td>3167.48000000</td>\n",
       "    </tr>\n",
       "    <tr>\n",
       "      <th>1881</th>\n",
       "      <td>GALAAUD</td>\n",
       "      <td>0.48807000</td>\n",
       "    </tr>\n",
       "    <tr>\n",
       "      <th>1882</th>\n",
       "      <td>LRCBNB</td>\n",
       "      <td>0.00383400</td>\n",
       "    </tr>\n",
       "    <tr>\n",
       "      <th>1883</th>\n",
       "      <td>ONEETH</td>\n",
       "      <td>0.00009238</td>\n",
       "    </tr>\n",
       "    <tr>\n",
       "      <th>1884</th>\n",
       "      <td>OOKIBNB</td>\n",
       "      <td>0.00006543</td>\n",
       "    </tr>\n",
       "  </tbody>\n",
       "</table>\n",
       "</div>"
      ],
      "text/plain": [
       "       symbol          price\n",
       "1880   ETHUST  3167.48000000\n",
       "1881  GALAAUD     0.48807000\n",
       "1882   LRCBNB     0.00383400\n",
       "1883   ONEETH     0.00009238\n",
       "1884  OOKIBNB     0.00006543"
      ]
     },
     "execution_count": 19,
     "metadata": {},
     "output_type": "execute_result"
    }
   ],
   "source": [
    "ticker_df.tail()"
   ]
  },
  {
   "cell_type": "code",
   "execution_count": null,
   "metadata": {},
   "outputs": [],
   "source": [
    "#assigns 'symbol' field to be the index\n",
    "\n",
    "ticker_df.set_index('symbol', inplace=True)"
   ]
  },
  {
   "cell_type": "markdown",
   "metadata": {},
   "source": [
    "4. Get Depth"
   ]
  },
  {
   "cell_type": "code",
   "execution_count": 29,
   "metadata": {},
   "outputs": [],
   "source": [
    "depth = client.get_order_book(symbol='BTCUSDT')"
   ]
  },
  {
   "cell_type": "code",
   "execution_count": 36,
   "metadata": {},
   "outputs": [
    {
     "data": {
      "text/html": [
       "<div>\n",
       "<style scoped>\n",
       "    .dataframe tbody tr th:only-of-type {\n",
       "        vertical-align: middle;\n",
       "    }\n",
       "\n",
       "    .dataframe tbody tr th {\n",
       "        vertical-align: top;\n",
       "    }\n",
       "\n",
       "    .dataframe thead th {\n",
       "        text-align: right;\n",
       "    }\n",
       "</style>\n",
       "<table border=\"1\" class=\"dataframe\">\n",
       "  <thead>\n",
       "    <tr style=\"text-align: right;\">\n",
       "      <th></th>\n",
       "      <th>Price</th>\n",
       "      <th>Volume</th>\n",
       "    </tr>\n",
       "  </thead>\n",
       "  <tbody>\n",
       "    <tr>\n",
       "      <th>0</th>\n",
       "      <td>41769.87000000</td>\n",
       "      <td>0.47101000</td>\n",
       "    </tr>\n",
       "    <tr>\n",
       "      <th>1</th>\n",
       "      <td>41768.66000000</td>\n",
       "      <td>0.07875000</td>\n",
       "    </tr>\n",
       "    <tr>\n",
       "      <th>2</th>\n",
       "      <td>41766.57000000</td>\n",
       "      <td>0.00047000</td>\n",
       "    </tr>\n",
       "    <tr>\n",
       "      <th>3</th>\n",
       "      <td>41765.60000000</td>\n",
       "      <td>0.08900000</td>\n",
       "    </tr>\n",
       "    <tr>\n",
       "      <th>4</th>\n",
       "      <td>41763.21000000</td>\n",
       "      <td>0.07659000</td>\n",
       "    </tr>\n",
       "  </tbody>\n",
       "</table>\n",
       "</div>"
      ],
      "text/plain": [
       "            Price      Volume\n",
       "0  41769.87000000  0.47101000\n",
       "1  41768.66000000  0.07875000\n",
       "2  41766.57000000  0.00047000\n",
       "3  41765.60000000  0.08900000\n",
       "4  41763.21000000  0.07659000"
      ]
     },
     "execution_count": 36,
     "metadata": {},
     "output_type": "execute_result"
    }
   ],
   "source": [
    "depth_df = pd.DataFrame(depth['bids'])\n",
    "depth_df.columns = ['Price', \"Volume\"]\n",
    "depth_df.head()"
   ]
  },
  {
   "cell_type": "markdown",
   "metadata": {},
   "source": [
    "5. Get Historical Data"
   ]
  },
  {
   "cell_type": "code",
   "execution_count": 54,
   "metadata": {},
   "outputs": [],
   "source": [
    "historical = client.get_historical_klines('BTCUSDT', Client.KLINE_INTERVAL_1DAY, '1 Jan 2011')"
   ]
  },
  {
   "cell_type": "code",
   "execution_count": 56,
   "metadata": {},
   "outputs": [],
   "source": [
    "hist_df = pd.DataFrame(historical)"
   ]
  },
  {
   "cell_type": "code",
   "execution_count": 59,
   "metadata": {},
   "outputs": [],
   "source": [
    "hist_df.columns = ['Open Time', 'Open', 'High', 'Low', 'Close', 'Volume', 'Close Time', 'Quote Asset Volume', 'Number of Trades', 'Taker by Base Asset Volume', 'Taker by Quote Asset Volume', 'Ignore']"
   ]
  },
  {
   "cell_type": "code",
   "execution_count": 60,
   "metadata": {},
   "outputs": [
    {
     "data": {
      "text/html": [
       "<div>\n",
       "<style scoped>\n",
       "    .dataframe tbody tr th:only-of-type {\n",
       "        vertical-align: middle;\n",
       "    }\n",
       "\n",
       "    .dataframe tbody tr th {\n",
       "        vertical-align: top;\n",
       "    }\n",
       "\n",
       "    .dataframe thead th {\n",
       "        text-align: right;\n",
       "    }\n",
       "</style>\n",
       "<table border=\"1\" class=\"dataframe\">\n",
       "  <thead>\n",
       "    <tr style=\"text-align: right;\">\n",
       "      <th></th>\n",
       "      <th>Open Time</th>\n",
       "      <th>Open</th>\n",
       "      <th>High</th>\n",
       "      <th>Low</th>\n",
       "      <th>Close</th>\n",
       "      <th>Volume</th>\n",
       "      <th>Close Time</th>\n",
       "      <th>Quote Asset Volume</th>\n",
       "      <th>Number of Trades</th>\n",
       "      <th>Taker by Base Asset Volume</th>\n",
       "      <th>Taker by Quote Asset Volume</th>\n",
       "      <th>Ignore</th>\n",
       "    </tr>\n",
       "  </thead>\n",
       "  <tbody>\n",
       "    <tr>\n",
       "      <th>0</th>\n",
       "      <td>1502928000000</td>\n",
       "      <td>4261.48000000</td>\n",
       "      <td>4485.39000000</td>\n",
       "      <td>4200.74000000</td>\n",
       "      <td>4285.08000000</td>\n",
       "      <td>795.15037700</td>\n",
       "      <td>1503014399999</td>\n",
       "      <td>3454770.05073206</td>\n",
       "      <td>3427</td>\n",
       "      <td>616.24854100</td>\n",
       "      <td>2678216.40060401</td>\n",
       "      <td>8733.91139481</td>\n",
       "    </tr>\n",
       "    <tr>\n",
       "      <th>1</th>\n",
       "      <td>1503014400000</td>\n",
       "      <td>4285.08000000</td>\n",
       "      <td>4371.52000000</td>\n",
       "      <td>3938.77000000</td>\n",
       "      <td>4108.37000000</td>\n",
       "      <td>1199.88826400</td>\n",
       "      <td>1503100799999</td>\n",
       "      <td>5086958.30617151</td>\n",
       "      <td>5233</td>\n",
       "      <td>972.86871000</td>\n",
       "      <td>4129123.31651808</td>\n",
       "      <td>9384.14140858</td>\n",
       "    </tr>\n",
       "    <tr>\n",
       "      <th>2</th>\n",
       "      <td>1503100800000</td>\n",
       "      <td>4108.37000000</td>\n",
       "      <td>4184.69000000</td>\n",
       "      <td>3850.00000000</td>\n",
       "      <td>4139.98000000</td>\n",
       "      <td>381.30976300</td>\n",
       "      <td>1503187199999</td>\n",
       "      <td>1549483.73542151</td>\n",
       "      <td>2153</td>\n",
       "      <td>274.33604200</td>\n",
       "      <td>1118001.87008735</td>\n",
       "      <td>9184.08552906</td>\n",
       "    </tr>\n",
       "    <tr>\n",
       "      <th>3</th>\n",
       "      <td>1503187200000</td>\n",
       "      <td>4120.98000000</td>\n",
       "      <td>4211.08000000</td>\n",
       "      <td>4032.62000000</td>\n",
       "      <td>4086.29000000</td>\n",
       "      <td>467.08302200</td>\n",
       "      <td>1503273599999</td>\n",
       "      <td>1930364.39032646</td>\n",
       "      <td>2321</td>\n",
       "      <td>376.79594700</td>\n",
       "      <td>1557401.33373730</td>\n",
       "      <td>10125.41408414</td>\n",
       "    </tr>\n",
       "    <tr>\n",
       "      <th>4</th>\n",
       "      <td>1503273600000</td>\n",
       "      <td>4069.13000000</td>\n",
       "      <td>4119.62000000</td>\n",
       "      <td>3911.79000000</td>\n",
       "      <td>4016.00000000</td>\n",
       "      <td>691.74306000</td>\n",
       "      <td>1503359999999</td>\n",
       "      <td>2797231.71402728</td>\n",
       "      <td>3972</td>\n",
       "      <td>557.35610700</td>\n",
       "      <td>2255662.55315837</td>\n",
       "      <td>11706.76997007</td>\n",
       "    </tr>\n",
       "  </tbody>\n",
       "</table>\n",
       "</div>"
      ],
      "text/plain": [
       "       Open Time           Open           High            Low          Close  \\\n",
       "0  1502928000000  4261.48000000  4485.39000000  4200.74000000  4285.08000000   \n",
       "1  1503014400000  4285.08000000  4371.52000000  3938.77000000  4108.37000000   \n",
       "2  1503100800000  4108.37000000  4184.69000000  3850.00000000  4139.98000000   \n",
       "3  1503187200000  4120.98000000  4211.08000000  4032.62000000  4086.29000000   \n",
       "4  1503273600000  4069.13000000  4119.62000000  3911.79000000  4016.00000000   \n",
       "\n",
       "          Volume     Close Time Quote Asset Volume  Number of Trades  \\\n",
       "0   795.15037700  1503014399999   3454770.05073206              3427   \n",
       "1  1199.88826400  1503100799999   5086958.30617151              5233   \n",
       "2   381.30976300  1503187199999   1549483.73542151              2153   \n",
       "3   467.08302200  1503273599999   1930364.39032646              2321   \n",
       "4   691.74306000  1503359999999   2797231.71402728              3972   \n",
       "\n",
       "  Taker by Base Asset Volume Taker by Quote Asset Volume          Ignore  \n",
       "0               616.24854100            2678216.40060401   8733.91139481  \n",
       "1               972.86871000            4129123.31651808   9384.14140858  \n",
       "2               274.33604200            1118001.87008735   9184.08552906  \n",
       "3               376.79594700            1557401.33373730  10125.41408414  \n",
       "4               557.35610700            2255662.55315837  11706.76997007  "
      ]
     },
     "execution_count": 60,
     "metadata": {},
     "output_type": "execute_result"
    }
   ],
   "source": [
    "hist_df.head()"
   ]
  },
  {
   "cell_type": "code",
   "execution_count": 62,
   "metadata": {},
   "outputs": [
    {
     "data": {
      "text/plain": [
       "(1605, 12)"
      ]
     },
     "execution_count": 62,
     "metadata": {},
     "output_type": "execute_result"
    }
   ],
   "source": [
    "hist_df.shape"
   ]
  },
  {
   "cell_type": "markdown",
   "metadata": {},
   "source": [
    "6. Preprocess Historical Data"
   ]
  },
  {
   "cell_type": "code",
   "execution_count": 64,
   "metadata": {},
   "outputs": [],
   "source": [
    "hist_df['Open Time'] = pd.to_datetime(hist_df['Open Time']/1000, unit='s')\n",
    "hist_df['Close Time'] = pd.to_datetime(hist_df['Close Time']/1000, unit='s')"
   ]
  },
  {
   "cell_type": "code",
   "execution_count": 73,
   "metadata": {},
   "outputs": [
    {
     "data": {
      "text/plain": [
       "Open Time                      datetime64[ns]\n",
       "Open                                  float64\n",
       "High                                  float64\n",
       "Low                                   float64\n",
       "Close                                 float64\n",
       "Volume                                float64\n",
       "Close Time                     datetime64[ns]\n",
       "Quote Asset Volume                    float64\n",
       "Number of Trades                        int64\n",
       "Taker by Base Asset Volume            float64\n",
       "Taker by Quote Asset Volume           float64\n",
       "Ignore                                 object\n",
       "dtype: object"
      ]
     },
     "execution_count": 73,
     "metadata": {},
     "output_type": "execute_result"
    }
   ],
   "source": [
    "hist_df.dtypes"
   ]
  },
  {
   "cell_type": "code",
   "execution_count": 70,
   "metadata": {},
   "outputs": [],
   "source": [
    "numeric_columns = ['Open', 'High', 'Low', 'Close', 'Volume', 'Quote Asset Volume','Taker by Base Asset Volume', 'Taker by Quote Asset Volume']"
   ]
  },
  {
   "cell_type": "code",
   "execution_count": 72,
   "metadata": {},
   "outputs": [],
   "source": [
    "hist_df[numeric_columns] = hist_df[numeric_columns].apply(pd.to_numeric, axis=1)"
   ]
  },
  {
   "cell_type": "code",
   "execution_count": 75,
   "metadata": {},
   "outputs": [
    {
     "data": {
      "text/html": [
       "<div>\n",
       "<style scoped>\n",
       "    .dataframe tbody tr th:only-of-type {\n",
       "        vertical-align: middle;\n",
       "    }\n",
       "\n",
       "    .dataframe tbody tr th {\n",
       "        vertical-align: top;\n",
       "    }\n",
       "\n",
       "    .dataframe thead th {\n",
       "        text-align: right;\n",
       "    }\n",
       "</style>\n",
       "<table border=\"1\" class=\"dataframe\">\n",
       "  <thead>\n",
       "    <tr style=\"text-align: right;\">\n",
       "      <th></th>\n",
       "      <th>Open</th>\n",
       "      <th>High</th>\n",
       "      <th>Low</th>\n",
       "      <th>Close</th>\n",
       "      <th>Volume</th>\n",
       "      <th>Quote Asset Volume</th>\n",
       "      <th>Number of Trades</th>\n",
       "      <th>Taker by Base Asset Volume</th>\n",
       "      <th>Taker by Quote Asset Volume</th>\n",
       "    </tr>\n",
       "  </thead>\n",
       "  <tbody>\n",
       "    <tr>\n",
       "      <th>count</th>\n",
       "      <td>1605.000000</td>\n",
       "      <td>1605.000000</td>\n",
       "      <td>1605.000000</td>\n",
       "      <td>1605.000000</td>\n",
       "      <td>1605.000000</td>\n",
       "      <td>1.605000e+03</td>\n",
       "      <td>1.605000e+03</td>\n",
       "      <td>1605.000000</td>\n",
       "      <td>1.605000e+03</td>\n",
       "    </tr>\n",
       "    <tr>\n",
       "      <th>mean</th>\n",
       "      <td>17525.926399</td>\n",
       "      <td>18051.999059</td>\n",
       "      <td>16923.741090</td>\n",
       "      <td>17549.452336</td>\n",
       "      <td>50296.913545</td>\n",
       "      <td>1.044292e+09</td>\n",
       "      <td>7.569081e+05</td>\n",
       "      <td>25048.287240</td>\n",
       "      <td>5.160129e+08</td>\n",
       "    </tr>\n",
       "    <tr>\n",
       "      <th>std</th>\n",
       "      <td>17335.032944</td>\n",
       "      <td>17836.226243</td>\n",
       "      <td>16749.175768</td>\n",
       "      <td>17342.602866</td>\n",
       "      <td>36289.341348</td>\n",
       "      <td>1.399223e+09</td>\n",
       "      <td>7.563052e+05</td>\n",
       "      <td>17628.803163</td>\n",
       "      <td>6.853819e+08</td>\n",
       "    </tr>\n",
       "    <tr>\n",
       "      <th>min</th>\n",
       "      <td>3188.010000</td>\n",
       "      <td>3276.500000</td>\n",
       "      <td>2817.000000</td>\n",
       "      <td>3189.020000</td>\n",
       "      <td>228.108068</td>\n",
       "      <td>9.778657e+05</td>\n",
       "      <td>2.153000e+03</td>\n",
       "      <td>56.190141</td>\n",
       "      <td>2.413638e+05</td>\n",
       "    </tr>\n",
       "    <tr>\n",
       "      <th>25%</th>\n",
       "      <td>6737.270000</td>\n",
       "      <td>6900.000000</td>\n",
       "      <td>6568.000000</td>\n",
       "      <td>6740.890000</td>\n",
       "      <td>28451.969138</td>\n",
       "      <td>2.152837e+08</td>\n",
       "      <td>2.138970e+05</td>\n",
       "      <td>14470.444269</td>\n",
       "      <td>1.127035e+08</td>\n",
       "    </tr>\n",
       "    <tr>\n",
       "      <th>50%</th>\n",
       "      <td>9294.690000</td>\n",
       "      <td>9473.010000</td>\n",
       "      <td>9093.010000</td>\n",
       "      <td>9296.490000</td>\n",
       "      <td>43408.475616</td>\n",
       "      <td>4.177245e+08</td>\n",
       "      <td>4.465580e+05</td>\n",
       "      <td>21666.536951</td>\n",
       "      <td>2.078037e+08</td>\n",
       "    </tr>\n",
       "    <tr>\n",
       "      <th>75%</th>\n",
       "      <td>18764.960000</td>\n",
       "      <td>19342.000000</td>\n",
       "      <td>18184.990000</td>\n",
       "      <td>18808.690000</td>\n",
       "      <td>64566.421908</td>\n",
       "      <td>1.409783e+09</td>\n",
       "      <td>1.114294e+06</td>\n",
       "      <td>31905.316420</td>\n",
       "      <td>6.883522e+08</td>\n",
       "    </tr>\n",
       "    <tr>\n",
       "      <th>max</th>\n",
       "      <td>67525.820000</td>\n",
       "      <td>69000.000000</td>\n",
       "      <td>66222.400000</td>\n",
       "      <td>67525.830000</td>\n",
       "      <td>402201.673764</td>\n",
       "      <td>1.347769e+10</td>\n",
       "      <td>6.331062e+06</td>\n",
       "      <td>197511.954273</td>\n",
       "      <td>6.410033e+09</td>\n",
       "    </tr>\n",
       "  </tbody>\n",
       "</table>\n",
       "</div>"
      ],
      "text/plain": [
       "               Open          High           Low         Close         Volume  \\\n",
       "count   1605.000000   1605.000000   1605.000000   1605.000000    1605.000000   \n",
       "mean   17525.926399  18051.999059  16923.741090  17549.452336   50296.913545   \n",
       "std    17335.032944  17836.226243  16749.175768  17342.602866   36289.341348   \n",
       "min     3188.010000   3276.500000   2817.000000   3189.020000     228.108068   \n",
       "25%     6737.270000   6900.000000   6568.000000   6740.890000   28451.969138   \n",
       "50%     9294.690000   9473.010000   9093.010000   9296.490000   43408.475616   \n",
       "75%    18764.960000  19342.000000  18184.990000  18808.690000   64566.421908   \n",
       "max    67525.820000  69000.000000  66222.400000  67525.830000  402201.673764   \n",
       "\n",
       "       Quote Asset Volume  Number of Trades  Taker by Base Asset Volume  \\\n",
       "count        1.605000e+03      1.605000e+03                 1605.000000   \n",
       "mean         1.044292e+09      7.569081e+05                25048.287240   \n",
       "std          1.399223e+09      7.563052e+05                17628.803163   \n",
       "min          9.778657e+05      2.153000e+03                   56.190141   \n",
       "25%          2.152837e+08      2.138970e+05                14470.444269   \n",
       "50%          4.177245e+08      4.465580e+05                21666.536951   \n",
       "75%          1.409783e+09      1.114294e+06                31905.316420   \n",
       "max          1.347769e+10      6.331062e+06               197511.954273   \n",
       "\n",
       "       Taker by Quote Asset Volume  \n",
       "count                 1.605000e+03  \n",
       "mean                  5.160129e+08  \n",
       "std                   6.853819e+08  \n",
       "min                   2.413638e+05  \n",
       "25%                   1.127035e+08  \n",
       "50%                   2.078037e+08  \n",
       "75%                   6.883522e+08  \n",
       "max                   6.410033e+09  "
      ]
     },
     "execution_count": 75,
     "metadata": {},
     "output_type": "execute_result"
    }
   ],
   "source": [
    "hist_df.describe()"
   ]
  },
  {
   "cell_type": "code",
   "execution_count": 78,
   "metadata": {},
   "outputs": [
    {
     "name": "stderr",
     "output_type": "stream",
     "text": [
      "C:\\Users\\gmccu\\AppData\\Local\\Temp/ipykernel_10568/2996143359.py:1: FutureWarning: Treating datetime data as categorical rather than numeric in `.describe` is deprecated and will be removed in a future version of pandas. Specify `datetime_is_numeric=True` to silence this warning and adopt the future behavior now.\n",
      "  hist_df.describe(include='datetime64[ns]')\n"
     ]
    },
    {
     "data": {
      "text/html": [
       "<div>\n",
       "<style scoped>\n",
       "    .dataframe tbody tr th:only-of-type {\n",
       "        vertical-align: middle;\n",
       "    }\n",
       "\n",
       "    .dataframe tbody tr th {\n",
       "        vertical-align: top;\n",
       "    }\n",
       "\n",
       "    .dataframe thead th {\n",
       "        text-align: right;\n",
       "    }\n",
       "</style>\n",
       "<table border=\"1\" class=\"dataframe\">\n",
       "  <thead>\n",
       "    <tr style=\"text-align: right;\">\n",
       "      <th></th>\n",
       "      <th>Open Time</th>\n",
       "      <th>Close Time</th>\n",
       "    </tr>\n",
       "  </thead>\n",
       "  <tbody>\n",
       "    <tr>\n",
       "      <th>count</th>\n",
       "      <td>1605</td>\n",
       "      <td>1605</td>\n",
       "    </tr>\n",
       "    <tr>\n",
       "      <th>unique</th>\n",
       "      <td>1605</td>\n",
       "      <td>1605</td>\n",
       "    </tr>\n",
       "    <tr>\n",
       "      <th>top</th>\n",
       "      <td>2017-08-17 00:00:00</td>\n",
       "      <td>2017-08-17 23:59:59.999000064</td>\n",
       "    </tr>\n",
       "    <tr>\n",
       "      <th>freq</th>\n",
       "      <td>1</td>\n",
       "      <td>1</td>\n",
       "    </tr>\n",
       "    <tr>\n",
       "      <th>first</th>\n",
       "      <td>2017-08-17 00:00:00</td>\n",
       "      <td>2017-08-17 23:59:59.999000064</td>\n",
       "    </tr>\n",
       "    <tr>\n",
       "      <th>last</th>\n",
       "      <td>2022-01-07 00:00:00</td>\n",
       "      <td>2022-01-07 23:59:59.999000064</td>\n",
       "    </tr>\n",
       "  </tbody>\n",
       "</table>\n",
       "</div>"
      ],
      "text/plain": [
       "                  Open Time                     Close Time\n",
       "count                  1605                           1605\n",
       "unique                 1605                           1605\n",
       "top     2017-08-17 00:00:00  2017-08-17 23:59:59.999000064\n",
       "freq                      1                              1\n",
       "first   2017-08-17 00:00:00  2017-08-17 23:59:59.999000064\n",
       "last    2022-01-07 00:00:00  2022-01-07 23:59:59.999000064"
      ]
     },
     "execution_count": 78,
     "metadata": {},
     "output_type": "execute_result"
    }
   ],
   "source": [
    "hist_df.describe(include='datetime64[ns]')"
   ]
  },
  {
   "cell_type": "code",
   "execution_count": 79,
   "metadata": {},
   "outputs": [
    {
     "data": {
      "text/html": [
       "<div>\n",
       "<style scoped>\n",
       "    .dataframe tbody tr th:only-of-type {\n",
       "        vertical-align: middle;\n",
       "    }\n",
       "\n",
       "    .dataframe tbody tr th {\n",
       "        vertical-align: top;\n",
       "    }\n",
       "\n",
       "    .dataframe thead th {\n",
       "        text-align: right;\n",
       "    }\n",
       "</style>\n",
       "<table border=\"1\" class=\"dataframe\">\n",
       "  <thead>\n",
       "    <tr style=\"text-align: right;\">\n",
       "      <th></th>\n",
       "      <th>Ignore</th>\n",
       "    </tr>\n",
       "  </thead>\n",
       "  <tbody>\n",
       "    <tr>\n",
       "      <th>count</th>\n",
       "      <td>1605</td>\n",
       "    </tr>\n",
       "    <tr>\n",
       "      <th>unique</th>\n",
       "      <td>124</td>\n",
       "    </tr>\n",
       "    <tr>\n",
       "      <th>top</th>\n",
       "      <td>0</td>\n",
       "    </tr>\n",
       "    <tr>\n",
       "      <th>freq</th>\n",
       "      <td>1482</td>\n",
       "    </tr>\n",
       "  </tbody>\n",
       "</table>\n",
       "</div>"
      ],
      "text/plain": [
       "       Ignore\n",
       "count    1605\n",
       "unique    124\n",
       "top         0\n",
       "freq     1482"
      ]
     },
     "execution_count": 79,
     "metadata": {},
     "output_type": "execute_result"
    }
   ],
   "source": [
    "hist_df.describe(include='object')"
   ]
  },
  {
   "cell_type": "code",
   "execution_count": 77,
   "metadata": {},
   "outputs": [
    {
     "name": "stdout",
     "output_type": "stream",
     "text": [
      "<class 'pandas.core.frame.DataFrame'>\n",
      "RangeIndex: 1605 entries, 0 to 1604\n",
      "Data columns (total 12 columns):\n",
      " #   Column                       Non-Null Count  Dtype         \n",
      "---  ------                       --------------  -----         \n",
      " 0   Open Time                    1605 non-null   datetime64[ns]\n",
      " 1   Open                         1605 non-null   float64       \n",
      " 2   High                         1605 non-null   float64       \n",
      " 3   Low                          1605 non-null   float64       \n",
      " 4   Close                        1605 non-null   float64       \n",
      " 5   Volume                       1605 non-null   float64       \n",
      " 6   Close Time                   1605 non-null   datetime64[ns]\n",
      " 7   Quote Asset Volume           1605 non-null   float64       \n",
      " 8   Number of Trades             1605 non-null   int64         \n",
      " 9   Taker by Base Asset Volume   1605 non-null   float64       \n",
      " 10  Taker by Quote Asset Volume  1605 non-null   float64       \n",
      " 11  Ignore                       1605 non-null   object        \n",
      "dtypes: datetime64[ns](2), float64(8), int64(1), object(1)\n",
      "memory usage: 150.6+ KB\n"
     ]
    }
   ],
   "source": [
    "hist_df.info()"
   ]
  },
  {
   "cell_type": "markdown",
   "metadata": {},
   "source": [
    "7. Viz"
   ]
  },
  {
   "cell_type": "code",
   "execution_count": 80,
   "metadata": {},
   "outputs": [],
   "source": [
    "import mplfinance as mpf"
   ]
  },
  {
   "cell_type": "code",
   "execution_count": 86,
   "metadata": {},
   "outputs": [
    {
     "data": {
      "image/png": "[encoded data removed]",
      "text/plain": [
       "<Figure size 800x575 with 4 Axes>"
      ]
     },
     "metadata": {},
     "output_type": "display_data"
    }
   ],
   "source": [
    "mpf.plot(hist_df.set_index('Close Time').tail(100),\n",
    "    type='candle', style='charles',\n",
    "    volume = True,\n",
    "    title='BTCUSDT Last 100 Days',\n",
    "    mav=(10,20,30))"
   ]
  }
 ],
 "metadata": {
  "interpreter": {
   "hash": "5b8ae5c980ec7b83cac616bebdd0e4f6bbf5908abc6e56159a965e83a5954724"
  },
  "kernelspec": {
   "display_name": "Python 3.9.9 64-bit",
   "language": "python",
   "name": "python3"
  },
  "language_info": {
   "codemirror_mode": {
    "name": "ipython",
    "version": 3
   },
   "file_extension": ".py",
   "mimetype": "text/x-python",
   "name": "python",
   "nbconvert_exporter": "python",
   "pygments_lexer": "ipython3",
   "version": "3.9.9"
  },
  "orig_nbformat": 4
 },
 "nbformat": 4,
 "nbformat_minor": 2
}
